{
 "cells": [
  {
   "cell_type": "markdown",
   "id": "27473bec-f73d-4fc2-8310-a179cb43df1f",
   "metadata": {},
   "source": [
    "# Notebook to create the two-dimensional labels by overlaying the After RGB GeoTIFF and the curated fire polygons \n",
    "## Import the necessary libraries and packages"
   ]
  },
  {
   "cell_type": "code",
   "execution_count": 1,
   "id": "944d19f2-c968-47ed-9362-6081de0b6673",
   "metadata": {},
   "outputs": [],
   "source": [
    "import io\n",
    "import rasterio\n",
    "import numpy as np\n",
    "import geopandas as gpd\n",
    "from shapely.geometry import box \n",
    "from shapely.geometry import shape\n",
    "import rasterio.features\n",
    "import os\n",
    "from google.oauth2 import service_account\n",
    "from googleapiclient.discovery import build\n",
    "from google.oauth2.credentials import Credentials\n",
    "from google_auth_oauthlib.flow import InstalledAppFlow\n",
    "from googleapiclient.http import MediaIoBaseDownload, MediaIoBaseUpload\n",
    "import matplotlib.pyplot as plt\n",
    "\n"
   ]
  },
  {
   "cell_type": "markdown",
   "id": "d77c81c3-29a5-4752-a27a-20ac04e64827",
   "metadata": {},
   "source": [
    "## Set Google Drive access"
   ]
  },
  {
   "cell_type": "code",
   "execution_count": 2,
   "id": "bf0b19af-dbc3-4a89-9d20-069b4efefe66",
   "metadata": {},
   "outputs": [
    {
     "name": "stdout",
     "output_type": "stream",
     "text": [
      "Please visit this URL to authorize this application: https://accounts.google.com/o/oauth2/auth?response_type=code&client_id=1003083568572-78avuh89fu558ciatmapqhgpka9p4c3l.apps.googleusercontent.com&redirect_uri=http%3A%2F%2Flocalhost%3A56611%2F&scope=https%3A%2F%2Fwww.googleapis.com%2Fauth%2Fdrive&state=yQXasA0axwj7GEJVNRpcoO5gNIr05Y&access_type=offline\n"
     ]
    }
   ],
   "source": [
    "# OAuth 2.0 credentials (client_secret.json) should be in the same directory as this script\n",
    "CLIENT_SECRET_FILE = 'client_secrets.json'\n",
    "API_NAME = 'drive'\n",
    "API_VERSION = 'v3'\n",
    "\n",
    "# Create OAuth flow\n",
    "flow = InstalledAppFlow.from_client_secrets_file(CLIENT_SECRET_FILE, ['https://www.googleapis.com/auth/drive'])\n",
    "\n",
    "# Authenticate and authorize the user\n",
    "credentials = flow.run_local_server(port=0)\n",
    "\n",
    "# Create a Drive API client\n",
    "service = build(API_NAME, API_VERSION, credentials=credentials)\n",
    "\n",
    "# List files in your Google Drive\n",
    "results = service.files().list().execute()\n",
    "files = results.get('files', [])\n",
    "# Define the folder IDs for \"after\" RGB images in Google Drive\n",
    "after_folder_id = '1zd9Wx7GXqw-w9F4hDZyViF9Rq04K5veI'"
   ]
  },
  {
   "cell_type": "markdown",
   "id": "16d9ba55-59f3-4ec9-87bf-677a8d5983a4",
   "metadata": {},
   "source": [
    "## List files in folder"
   ]
  },
  {
   "cell_type": "code",
   "execution_count": 3,
   "id": "91523dab-ff9a-40bd-9a5c-181b0c210bdf",
   "metadata": {},
   "outputs": [],
   "source": [
    "# Function to list all files in a folder with their IDs and names\n",
    "def list_files_in_folder(service, folder_id):\n",
    "    results = []\n",
    "    page_token = None\n",
    "\n",
    "    while True:\n",
    "        response = service.files().list(\n",
    "            q=f\"'{folder_id}' in parents\",\n",
    "            pageSize=1000,  # Increase if you have more than 1000 files\n",
    "            pageToken=page_token,\n",
    "            fields=\"nextPageToken, files(id, name)\"\n",
    "        ).execute()\n",
    "\n",
    "        files = response.get('files', [])\n",
    "        results.extend(files)\n",
    "        page_token = response.get('nextPageToken')\n",
    "        if not page_token:\n",
    "            break\n",
    "\n",
    "    return results\n",
    "# List all files in the \"after\" folder\n",
    "after_files = list_files_in_folder(service, after_folder_id)\n",
    "#Create a python list with the names \n",
    "after_filenames = [file['name'] for file in after_files]"
   ]
  },
  {
   "cell_type": "markdown",
   "id": "eba410eb-466e-438c-a6c9-63e5bcb9d394",
   "metadata": {},
   "source": [
    "## Code to create, overlay and upload the masks"
   ]
  },
  {
   "cell_type": "code",
   "execution_count": 4,
   "id": "0520c66d-f7f9-4cc4-aec8-5ca8861cc9a0",
   "metadata": {},
   "outputs": [],
   "source": [
    "# Define the paths to your Shapefile\n",
    "shapefile_path = 'PolygonFiles/FirePolygons.shp'\n",
    "\n",
    "# Read the Shapefile using geopandas\n",
    "gdf = gpd.read_file(shapefile_path)\n",
    "\n",
    "# Reproject the shapefile to EPSG:4326\n",
    "gdf = gdf.to_crs(epsg=4326)\n",
    "\n",
    "# Create a dictionary to store binary masks for each image\n",
    "image_masks = {}\n",
    "\n",
    "# Google Drive folder ID for storing mask results\n",
    "mask_folder_id = '1ky2Jj7s7jnyeVWVwPHEyrYE-mOlsu1oO'\n",
    "\n",
    "# Function to upload a file to Google Drive\n",
    "def upload_tiff_to_drive(service, file_content, file_name, folder_id):\n",
    "    media = MediaIoBaseUpload(io.BytesIO(file_content), mimetype='image/tiff')\n",
    "    request = service.files().create(\n",
    "        media_body=media,\n",
    "        body={'name': file_name, 'parents': [folder_id]}\n",
    "    )\n",
    "    request.execute()\n",
    "\n",
    "# Iterate through the rows in the attribute table\n",
    "for i, (index, row) in enumerate(gdf.iterrows()):\n",
    "    # Skip rows before index x in case code fails at a certain point\n",
    "    if i < 366:\n",
    "        continue\n",
    "    object_id = row['ORIGINALOI']\n",
    "    image_name = f'RGB_AfterFire{object_id}.tif'\n",
    "\n",
    "    # Check if the image exists in Google Drive\n",
    "    file_id = None\n",
    "    for file in after_files:\n",
    "        if file['name'] == image_name:\n",
    "            file_id = file['id']\n",
    "            break\n",
    "\n",
    "    if file_id:\n",
    "        # Download the image from Google Drive\n",
    "        request = service.files().get_media(fileId=file_id)\n",
    "        fh = io.BytesIO()\n",
    "        downloader = MediaIoBaseDownload(fh, request)\n",
    "        done = False\n",
    "        while done is False:\n",
    "            _, done = downloader.next_chunk()\n",
    "\n",
    "        # Read the downloaded image using rasterio\n",
    "        fh.seek(0)\n",
    "        with rasterio.open(fh) as src:\n",
    "            image_width = src.width\n",
    "            image_height = src.height\n",
    "            image_transform = src.transform\n",
    "            image_bounds = box(src.bounds[0], src.bounds[1], src.bounds[2], src.bounds[3])\n",
    "\n",
    "        geom = shape(row['geometry'])  # Extract the geometry column\n",
    "        clipped_geom = geom.intersection(image_bounds.envelope)\n",
    "\n",
    "        if not clipped_geom.is_empty:\n",
    "            # Create a binary mask by rasterizing the clipped geometry\n",
    "            clipped_mask = rasterio.features.geometry_mask([clipped_geom], out_shape=(image_height, image_width), transform=image_transform, invert=True)\n",
    "\n",
    "            # Combine the clipped mask with the mask for the specific image\n",
    "            if image_name not in image_masks:\n",
    "                image_masks[image_name] = np.zeros((image_height, image_width), dtype=np.uint8)\n",
    "            \n",
    "            image_masks[image_name] = np.maximum(image_masks[image_name], clipped_mask)\n",
    "\n",
    "            # Create the temporary directory if it doesn't exist\n",
    "            temp_dir = 'temp_masks'\n",
    "            if not os.path.exists(temp_dir):\n",
    "                os.makedirs(temp_dir)\n",
    "\n",
    "            # Save the image with the mask overlay\n",
    "            temp_output_path = f'{temp_dir}/{image_name[:-4]}_with_mask.tif'  # Temporary output image path with mask overlay\n",
    "            with rasterio.open(temp_output_path, 'w', driver='GTiff', width=image_width, height=image_height, count=1, dtype=np.uint8, crs=src.crs, transform=image_transform) as dst:\n",
    "                dst.write(clipped_mask, 1)\n",
    "\n",
    "            # Upload the result to Google Drive\n",
    "            upload_tiff_to_drive(service, open(temp_output_path, 'rb').read(), f'{image_name[:-4]}_with_mask.tif', mask_folder_id)\n",
    "            \n",
    "            # Remove the temporary file\n",
    "            os.remove(temp_output_path)\n",
    "\n"
   ]
  },
  {
   "cell_type": "code",
   "execution_count": null,
   "id": "af8ca180-8f9a-4985-ae61-62ca059913bd",
   "metadata": {},
   "outputs": [],
   "source": []
  }
 ],
 "metadata": {
  "kernelspec": {
   "display_name": "Python 3 (ipykernel)",
   "language": "python",
   "name": "python3"
  },
  "language_info": {
   "codemirror_mode": {
    "name": "ipython",
    "version": 3
   },
   "file_extension": ".py",
   "mimetype": "text/x-python",
   "name": "python",
   "nbconvert_exporter": "python",
   "pygments_lexer": "ipython3",
   "version": "3.9.12"
  }
 },
 "nbformat": 4,
 "nbformat_minor": 5
}
