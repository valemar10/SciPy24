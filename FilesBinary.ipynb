{
 "cells": [
  {
   "cell_type": "markdown",
   "id": "26a9f4a3-191c-431f-a04a-c7becc381e2e",
   "metadata": {},
   "source": [
    "# Notebook to organize and label the Sentinel-2 Satellite RGB image data for a simple VGG16 model that only uses the After Wildfire GeoTIFF images\n",
    "\n",
    "#### Import packages and libraries"
   ]
  },
  {
   "cell_type": "code",
   "execution_count": 1,
   "id": "2e50f9fe-ef1e-448c-ad14-993196a956fb",
   "metadata": {
    "tags": []
   },
   "outputs": [
    {
     "name": "stdout",
     "output_type": "stream",
     "text": [
      "Copied all files to /Volumes/HD710PRO/Fire_and_Hurricane_Images/Fire/BinaryData/AfterRGBSegmentsNoDamage\n"
     ]
    }
   ],
   "source": [
    "import os\n",
    "import shutil\n",
    "import random"
   ]
  },
  {
   "cell_type": "markdown",
   "id": "685eeb9c-e4a8-43c4-ba38-77f063526d08",
   "metadata": {},
   "source": [
    "#### Create a file path with all the undamaged by wildfire files"
   ]
  },
  {
   "cell_type": "code",
   "execution_count": null,
   "id": "2c510169-1981-4b42-9b04-81ef1e95acbb",
   "metadata": {},
   "outputs": [],
   "source": [
    "\n",
    "source_dir = '/Volumes/HD710PRO/Fire_and_Hurricane_Images/Fire/DividedData/AfterRGBSegments'\n",
    "destination_dir = '/Volumes/HD710PRO/Fire_and_Hurricane_Images/Fire/BinaryData/AfterRGBSegmentsNoDamage'\n",
    "exclusion_dir = '/Volumes/HD710PRO/Fire_and_Hurricane_Images/Fire/DividedData/RGB_DamageTiles'\n",
    "\n",
    "# Get a list of files in the source directory\n",
    "source_files = os.listdir(source_dir)\n",
    "\n",
    "# Get a list of files in the exclusion directory\n",
    "exclusion_files = os.listdir(exclusion_dir)\n",
    "\n",
    "# Iterate through files in the source directory\n",
    "for file_name in source_files:\n",
    "    # Check if the file is not in the exclusion directory\n",
    "    if file_name not in exclusion_files:\n",
    "        source_path = os.path.join(source_dir, file_name)\n",
    "        destination_path = os.path.join(destination_dir, file_name)\n",
    "        \n",
    "        # Copy the file to the destination directory\n",
    "        shutil.copy(source_path, destination_path)\n",
    "print(f\"Copied all files to {destination_dir}\")\n"
   ]
  },
  {
   "cell_type": "markdown",
   "id": "e142d41f-1ca9-4321-bf62-4c481e307d74",
   "metadata": {},
   "source": [
    "#### Create a file path with all the damaged by wildfire files"
   ]
  },
  {
   "cell_type": "code",
   "execution_count": 5,
   "id": "63a09a7d-3f25-4268-9e8a-cf2971d617c9",
   "metadata": {},
   "outputs": [
    {
     "name": "stdout",
     "output_type": "stream",
     "text": [
      "Copied all files to /Volumes/HD710PRO/Fire_and_Hurricane_Images/Fire/BinaryData/RGB_AfterDamageTiles\n"
     ]
    }
   ],
   "source": [
    "# Define the destination directory\n",
    "destination_directory = '/Volumes/HD710PRO/Fire_and_Hurricane_Images/Fire/BinaryData/RGB_AfterDamageTiles'\n",
    "\n",
    "# List of source directories\n",
    "source_directories = [\n",
    "    '/Volumes/HD710PRO/Fire_and_Hurricane_Images/Fire/DividedData/RGB_DamageTiles',\n",
    "    '/Volumes/HD710PRO/Fire_and_Hurricane_Images/Fire/DividedData/ROT90_afterRGBdamage',\n",
    "    '/Volumes/HD710PRO/Fire_and_Hurricane_Images/Fire/DividedData/ROT180_afterRGBdamage',\n",
    "    '/Volumes/HD710PRO/Fire_and_Hurricane_Images/Fire/DividedData/ROT270_afterRGBdamage',\n",
    "    '/Volumes/HD710PRO/Fire_and_Hurricane_Images/Fire/DividedData/VertFlip_afterRGBdamage',\n",
    "    '/Volumes/HD710PRO/Fire_and_Hurricane_Images/Fire/DividedData/HorFlip_afterRGBdamage',\n",
    "]\n",
    "\n",
    "# Iterate through source directories and copy files to the destination directory\n",
    "for source_dir in source_directories:\n",
    "    for root, _, files in os.walk(source_dir):\n",
    "        for file in files:\n",
    "            source_path = os.path.join(root, file)\n",
    "            destination_path = os.path.join(destination_directory, os.path.relpath(source_path, source_dir))\n",
    "            os.makedirs(os.path.dirname(destination_path), exist_ok=True)  # Create parent directories if they don't exist\n",
    "            shutil.copy(source_path, destination_path)\n",
    "\n",
    "print(f\"Copied all files to {destination_directory}\")\n"
   ]
  },
  {
   "cell_type": "markdown",
   "id": "96d725f3-65bf-43cb-987c-3c6c6fb5b2f5",
   "metadata": {},
   "source": [
    "#### Send 10% of the undamaged by wildfires files into the test set"
   ]
  },
  {
   "cell_type": "code",
   "execution_count": 20,
   "id": "6adacafe-de89-465d-9a07-e04aed805626",
   "metadata": {
    "tags": []
   },
   "outputs": [
    {
     "name": "stdout",
     "output_type": "stream",
     "text": [
      "7713 files moved to the Test directory.\n"
     ]
    }
   ],
   "source": [
    "# Define the source directory and destination directories\n",
    "source_directory = '/Volumes/HD710PRO/Fire_and_Hurricane_Images/Fire/BinaryData/AfterRGBSegmentsNoDamage'\n",
    "test_directory = os.path.join(source_directory, 'Test')\n",
    "\n",
    "# Make sure the destination directories exist, create them if they don't\n",
    "os.makedirs(test_directory, exist_ok=True)\n",
    "os.makedirs(training_directory, exist_ok=True)\n",
    "\n",
    "# List all files in the source directory\n",
    "all_files = os.listdir(source_directory)\n",
    "\n",
    "# Calculate the number of files to move to the test directory (10%)\n",
    "num_files_to_test = int(0.10 * len(all_files))\n",
    "\n",
    "# Randomly select unique files to move to the test directory\n",
    "files_to_test = random.sample(all_files, num_files_to_test)\n",
    "\n",
    "# Move the selected files to the test directory\n",
    "for file_name in files_to_test:\n",
    "    source_path = os.path.join(source_directory, file_name)\n",
    "    dest_path = os.path.join(test_directory, file_name)\n",
    "    shutil.move(source_path, dest_path)\n",
    "print(f\"{num_files_to_test} files moved to the Test directory.\")\n"
   ]
  },
  {
   "cell_type": "markdown",
   "id": "3bd2bcfb-9211-4f50-afa1-4f9962916d0a",
   "metadata": {},
   "source": [
    "#### Send the remaining 80% of the undamaged by wildfires files into the training set"
   ]
  },
  {
   "cell_type": "code",
   "execution_count": 21,
   "id": "474192f2-c3fb-469d-9dd1-927f79874601",
   "metadata": {},
   "outputs": [
    {
     "name": "stdout",
     "output_type": "stream",
     "text": [
      "Moved 69424 files from /Volumes/HD710PRO/Fire_and_Hurricane_Images/Fire/BinaryData/AfterRGBSegmentsNoDamage to /Volumes/HD710PRO/Fire_and_Hurricane_Images/Fire/BinaryData/AfterRGBSegmentsNoDamage/Training.\n"
     ]
    }
   ],
   "source": [
    "# Source directory and destination directory\n",
    "source_directory = '/Volumes/HD710PRO/Fire_and_Hurricane_Images/Fire/BinaryData/AfterRGBSegmentsNoDamage'\n",
    "destination_directory = os.path.join(source_directory, 'Training')\n",
    "\n",
    "# Make sure the destination directory exists, create it if it doesn't\n",
    "os.makedirs(destination_directory, exist_ok=True)\n",
    "\n",
    "# List all files in the source directory\n",
    "all_files = os.listdir(source_directory)\n",
    "\n",
    "# Iterate through the files in the source directory and move them to the destination directory\n",
    "for file_name in all_files:\n",
    "    source_path = os.path.join(source_directory, file_name)\n",
    "    dest_path = os.path.join(destination_directory, file_name)\n",
    "    if os.path.isfile(source_path):\n",
    "        shutil.move(source_path, dest_path)\n",
    "\n",
    "print(f\"Moved {len(all_files)} files from {source_directory} to {destination_directory}.\")"
   ]
  },
  {
   "cell_type": "markdown",
   "id": "80b2f32e-da47-4c8f-acb9-a9533e808f23",
   "metadata": {},
   "source": [
    "#### Send 10% of the damaged by wildfires files into the test set"
   ]
  },
  {
   "cell_type": "code",
   "execution_count": 22,
   "id": "26dc0b8c-1dc7-49cf-84c7-3fa16c6bff59",
   "metadata": {
    "collapsed": true,
    "jupyter": {
     "outputs_hidden": true
    },
    "tags": []
   },
   "outputs": [
    {
     "name": "stdout",
     "output_type": "stream",
     "text": [
      "2908 files moved to the Test directory.\n",
      "26175 files moved to the Training directory.\n"
     ]
    }
   ],
   "source": [
    "# Define the source directory and destination directories\n",
    "source_directory = '/Volumes/HD710PRO/Fire_and_Hurricane_Images/Fire/BinaryData/RGB_AfterDamageTiles'\n",
    "test_directory = os.path.join(source_directory, 'Test')\n",
    "\n",
    "# Make sure the destination directories exist, create them if they don't\n",
    "os.makedirs(test_directory, exist_ok=True)\n",
    "os.makedirs(training_directory, exist_ok=True)\n",
    "\n",
    "# List all files in the source directory\n",
    "all_files = os.listdir(source_directory)\n",
    "\n",
    "# Calculate the number of files to move to the test directory (10%)\n",
    "num_files_to_test = int(0.10 * len(all_files))\n",
    "\n",
    "# Randomly select unique files to move to the test directory\n",
    "files_to_test = random.sample(all_files, num_files_to_test)\n",
    "\n",
    "# Move the selected files to the test directory\n",
    "for file_name in files_to_test:\n",
    "    source_path = os.path.join(source_directory, file_name)\n",
    "    dest_path = os.path.join(test_directory, file_name)\n",
    "    shutil.move(source_path, dest_path)\n",
    "\n",
    "print(f\"{num_files_to_test} files moved to the Test directory.\")\n",
    "\n"
   ]
  },
  {
   "cell_type": "markdown",
   "id": "8dbd77de-fae1-4b96-af47-1fe073f1d984",
   "metadata": {},
   "source": [
    "#### Send the remaining 80% of the damaged by wildfires files into the training set"
   ]
  },
  {
   "cell_type": "code",
   "execution_count": 23,
   "id": "e22fd3ac-b6a3-45b8-ae43-0abcc63f36c5",
   "metadata": {},
   "outputs": [
    {
     "name": "stdout",
     "output_type": "stream",
     "text": [
      "Moved 26175 files from /Volumes/HD710PRO/Fire_and_Hurricane_Images/Fire/BinaryData/RGB_AfterDamageTiles to /Volumes/HD710PRO/Fire_and_Hurricane_Images/Fire/BinaryData/RGB_AfterDamageTiles/Training.\n"
     ]
    }
   ],
   "source": [
    "# Source directory and destination directory\n",
    "source_directory = '/Volumes/HD710PRO/Fire_and_Hurricane_Images/Fire/BinaryData/RGB_AfterDamageTiles'\n",
    "destination_directory = os.path.join(source_directory, 'Training')\n",
    "\n",
    "# Make sure the destination directory exists, create it if it doesn't\n",
    "os.makedirs(destination_directory, exist_ok=True)\n",
    "\n",
    "# List all files in the source directory\n",
    "all_files = os.listdir(source_directory)\n",
    "\n",
    "# Iterate through the files in the source directory and move them to the destination directory\n",
    "for file_name in all_files:\n",
    "    source_path = os.path.join(source_directory, file_name)\n",
    "    dest_path = os.path.join(destination_directory, file_name)\n",
    "    if os.path.isfile(source_path):\n",
    "        shutil.move(source_path, dest_path)\n",
    "\n",
    "print(f\"Moved {len(all_files)} files from {source_directory} to {destination_directory}.\")"
   ]
  }
 ],
 "metadata": {
  "kernelspec": {
   "display_name": "Python 3 (ipykernel)",
   "language": "python",
   "name": "python3"
  },
  "language_info": {
   "codemirror_mode": {
    "name": "ipython",
    "version": 3
   },
   "file_extension": ".py",
   "mimetype": "text/x-python",
   "name": "python",
   "nbconvert_exporter": "python",
   "pygments_lexer": "ipython3",
   "version": "3.9.12"
  }
 },
 "nbformat": 4,
 "nbformat_minor": 5
}
